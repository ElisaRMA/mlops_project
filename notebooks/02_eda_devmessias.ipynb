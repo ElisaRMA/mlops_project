{
 "cells": [
  {
   "cell_type": "code",
   "execution_count": 1,
   "id": "03c86251-5059-4162-8503-1d00a2eb9797",
   "metadata": {},
   "outputs": [],
   "source": [
    "import pandas as pd\n",
    "import numpy as np\n",
    "\n",
    "from scipy import stats\n",
    "from statsmodels.stats.weightstats import ztest\n",
    "\n",
    "import matplotlib.pyplot as plt\n",
    "import seaborn as sns\n",
    "from IPython.display import display, Markdown"
   ]
  },
  {
   "cell_type": "code",
   "execution_count": 2,
   "id": "16bb84a0-f3a2-4632-be6e-8bc3e88f7ae6",
   "metadata": {},
   "outputs": [],
   "source": [
    "df = pd.read_csv(\"../data/raw/train.csv\")"
   ]
  },
  {
   "cell_type": "markdown",
   "id": "61a97352",
   "metadata": {},
   "source": [
    "### Dataset inspection\n",
    "\n",
    "- Should we worry about computational complexity? (No, small dataset and small number of features)\n",
    "\n",
    "- Should we use sampling techniques to reduce the size of the dataset? (No)"
   ]
  },
  {
   "cell_type": "code",
   "execution_count": 3,
   "id": "6e0146b9",
   "metadata": {},
   "outputs": [
    {
     "data": {
      "text/markdown": [
       "|Column Name|Size (MB)|\n",
       "|---|---|\n",
       "|Index|0.00|\n",
       "|PassengerId|0.01|\n",
       "|Survived|0.01|\n",
       "|Pclass|0.01|\n",
       "|Name|0.07|\n",
       "|Sex|0.05|\n",
       "|Age|0.01|\n",
       "|SibSp|0.01|\n",
       "|Parch|0.01|\n",
       "|Ticket|0.05|\n",
       "|Fare|0.01|\n",
       "|Cabin|0.03|\n",
       "|Embarked|0.05|\n",
       "|Total|0.31|\n"
      ],
      "text/plain": [
       "<IPython.core.display.Markdown object>"
      ]
     },
     "metadata": {},
     "output_type": "display_data"
    }
   ],
   "source": [
    "def display_df_memory_usage(df):\n",
    "    \"\"\"\n",
    "    Display the memory usage of a dataframe.    \n",
    "    \"\"\"  \n",
    "    md_table_str = '|Column Name|Size (MB)|\\n|---|---|\\n'\n",
    "    mem_mb_total = 0\n",
    "    for col_name, mem_bytes in df.memory_usage(deep=True).items():\n",
    "        mem_mb = mem_bytes / 1024**2\n",
    "        mem_mb_total += mem_mb\n",
    "        md_table_str += '|{}|{:.2f}|\\n'.format(col_name, mem_mb)\n",
    "    md_table_str += '|Total|{:.2f}|\\n'.format(mem_mb_total)\n",
    "    display(Markdown(md_table_str))\n",
    "display_df_memory_usage(df)"
   ]
  },
  {
   "cell_type": "markdown",
   "metadata": {},
   "source": [
    "### Conclusion:\n",
    "\n",
    "- We're working with a small dataset. Thus we can use all the data without worrying about computational resources or sampling the data."
   ]
  },
  {
   "cell_type": "markdown",
   "id": "176a1181",
   "metadata": {},
   "source": [
    "## Data Quality Checks\n",
    "\n",
    "- Are there too many missing values? (Just in some columns)\n",
    "- Any there any columns with many values missing? (Yes, cabin)\n",
    "- Should we drop any columns? (Maybe, cabin)\n",
    "- Are there  duplicate values? (No)\n",
    "- Any there strange behavior or corelation in the data? (No, it's seems to be ok. But we should investigate with more sophisticated methods)\n",
    "  - At first glance, we can think that the embarked port affect the survival rate. But the initial analysis showed that maybe it's not the case.\n",
    "  - Survival rate it seems correlated with the Pclass\n",
    "- Should we stop the analysis? (No, we should continue)\n",
    "  "
   ]
  },
  {
   "cell_type": "code",
   "execution_count": 4,
   "id": "80076ff7-5532-4029-ac1e-69cac8977b7e",
   "metadata": {},
   "outputs": [
    {
     "name": "stdout",
     "output_type": "stream",
     "text": [
      "<class 'pandas.core.frame.DataFrame'>\n",
      "RangeIndex: 891 entries, 0 to 890\n",
      "Data columns (total 12 columns):\n",
      " #   Column       Non-Null Count  Dtype  \n",
      "---  ------       --------------  -----  \n",
      " 0   PassengerId  891 non-null    int64  \n",
      " 1   Survived     891 non-null    int64  \n",
      " 2   Pclass       891 non-null    int64  \n",
      " 3   Name         891 non-null    object \n",
      " 4   Sex          891 non-null    object \n",
      " 5   Age          714 non-null    float64\n",
      " 6   SibSp        891 non-null    int64  \n",
      " 7   Parch        891 non-null    int64  \n",
      " 8   Ticket       891 non-null    object \n",
      " 9   Fare         891 non-null    float64\n",
      " 10  Cabin        204 non-null    object \n",
      " 11  Embarked     889 non-null    object \n",
      "dtypes: float64(2), int64(5), object(5)\n",
      "memory usage: 83.7+ KB\n"
     ]
    }
   ],
   "source": [
    "df.info()\n"
   ]
  },
  {
   "cell_type": "code",
   "execution_count": 5,
   "id": "85ea90fc",
   "metadata": {},
   "outputs": [
    {
     "data": {
      "text/markdown": [
       "**Missing values**"
      ],
      "text/plain": [
       "<IPython.core.display.Markdown object>"
      ]
     },
     "metadata": {},
     "output_type": "display_data"
    },
    {
     "data": {
      "text/markdown": [
       "|             |   % missing values |\n",
       "|:------------|-------------------:|\n",
       "| Cabin       |          77.1044   |\n",
       "| Age         |          19.8653   |\n",
       "| Embarked    |           0.224467 |\n",
       "| PassengerId |           0        |\n",
       "| Survived    |           0        |\n",
       "| Pclass      |           0        |\n",
       "| Name        |           0        |\n",
       "| Sex         |           0        |\n",
       "| SibSp       |           0        |\n",
       "| Parch       |           0        |\n",
       "| Ticket      |           0        |\n",
       "| Fare        |           0        |"
      ],
      "text/plain": [
       "<IPython.core.display.Markdown object>"
      ]
     },
     "metadata": {},
     "output_type": "display_data"
    }
   ],
   "source": [
    "# create a series with the percentage of missing values for each column\n",
    "missing_values = df.isnull().sum() / len(df)*100\n",
    "missing_values = missing_values.sort_values(ascending=False)\n",
    "missing_values.rename(\"% missing values\", inplace=True)\n",
    "display(Markdown('**Missing values**'))\n",
    "display(Markdown(missing_values.to_markdown()))\n",
    "del missing_values"
   ]
  },
  {
   "cell_type": "code",
   "execution_count": 6,
   "id": "5f930acf",
   "metadata": {},
   "outputs": [
    {
     "data": {
      "text/markdown": [
       "|Column Name|Unique Values||\n",
       "|---|---|---|\n",
       "|PassengerId|891|\n",
       "|Survived|2|0: 61.6\\% 1: 38.4\\%\n",
       "|Pclass|3|3: 55.1\\% 1: 24.2\\% 2: 20.7\\%\n",
       "|Name|891|\n",
       "|Sex|2|male: 64.8\\% female: 35.2\\%\n",
       "|Age|88|\n",
       "|SibSp|7|\n",
       "|Parch|7|\n",
       "|Ticket|681|\n",
       "|Fare|248|\n",
       "|Cabin|147|\n",
       "|Embarked|3|S: 72.4\\% C: 18.9\\% Q: 8.7\\%\n"
      ],
      "text/plain": [
       "<IPython.core.display.Markdown object>"
      ]
     },
     "metadata": {},
     "output_type": "display_data"
    }
   ],
   "source": [
    "# print a markdown table with the col , the number of unique values and the unique values list\n",
    "\n",
    "def unique_values_table(df):\n",
    "    \"\"\"Print a markdown table\n",
    "    with the col, the number of unique values and the unique values \n",
    "    list if there are more than 4 unique values.\n",
    "    \"\"\"\n",
    "    md_table_str = '|Column Name|Unique Values||\\n|---|---|---|\\n'\n",
    "    for col_name, unique_values in df.nunique().items():\n",
    "        if unique_values > 3:\n",
    "            md_table_str += '|{}|{}|\\n'.format(col_name, unique_values)\n",
    "        else:\n",
    "            md_unique_str = ' '.join([\n",
    "                f'{name}: {value*100:.1f}\\%'\n",
    "                for name, value in \n",
    "                df[col_name].value_counts(normalize=True).items()\n",
    "            ])\n",
    "\n",
    "            md_table_str += '|{}|{}|{}\\n'.format(\n",
    "                col_name, unique_values, md_unique_str)\n",
    "    display(Markdown(md_table_str))\n",
    "unique_values_table(df)\n"
   ]
  },
  {
   "cell_type": "code",
   "execution_count": 7,
   "id": "0055321d",
   "metadata": {},
   "outputs": [],
   "source": [
    "# drop PassengerId column\n",
    "df.drop(columns=['PassengerId'], inplace=True)"
   ]
  },
  {
   "cell_type": "code",
   "execution_count": 8,
   "id": "a5f447df",
   "metadata": {},
   "outputs": [
    {
     "data": {
      "text/html": [
       "<div>\n",
       "<style scoped>\n",
       "    .dataframe tbody tr th:only-of-type {\n",
       "        vertical-align: middle;\n",
       "    }\n",
       "\n",
       "    .dataframe tbody tr th {\n",
       "        vertical-align: top;\n",
       "    }\n",
       "\n",
       "    .dataframe thead th {\n",
       "        text-align: right;\n",
       "    }\n",
       "</style>\n",
       "<table border=\"1\" class=\"dataframe\">\n",
       "  <thead>\n",
       "    <tr style=\"text-align: right;\">\n",
       "      <th></th>\n",
       "      <th>Survived</th>\n",
       "      <th>Pclass</th>\n",
       "      <th>Age</th>\n",
       "      <th>SibSp</th>\n",
       "      <th>Parch</th>\n",
       "      <th>Fare</th>\n",
       "    </tr>\n",
       "  </thead>\n",
       "  <tbody>\n",
       "    <tr>\n",
       "      <th>count</th>\n",
       "      <td>891.000000</td>\n",
       "      <td>891.000000</td>\n",
       "      <td>714.000000</td>\n",
       "      <td>891.000000</td>\n",
       "      <td>891.000000</td>\n",
       "      <td>891.000000</td>\n",
       "    </tr>\n",
       "    <tr>\n",
       "      <th>mean</th>\n",
       "      <td>0.383838</td>\n",
       "      <td>2.308642</td>\n",
       "      <td>29.699118</td>\n",
       "      <td>0.523008</td>\n",
       "      <td>0.381594</td>\n",
       "      <td>32.204208</td>\n",
       "    </tr>\n",
       "    <tr>\n",
       "      <th>std</th>\n",
       "      <td>0.486592</td>\n",
       "      <td>0.836071</td>\n",
       "      <td>14.526497</td>\n",
       "      <td>1.102743</td>\n",
       "      <td>0.806057</td>\n",
       "      <td>49.693429</td>\n",
       "    </tr>\n",
       "    <tr>\n",
       "      <th>min</th>\n",
       "      <td>0.000000</td>\n",
       "      <td>1.000000</td>\n",
       "      <td>0.420000</td>\n",
       "      <td>0.000000</td>\n",
       "      <td>0.000000</td>\n",
       "      <td>0.000000</td>\n",
       "    </tr>\n",
       "    <tr>\n",
       "      <th>25%</th>\n",
       "      <td>0.000000</td>\n",
       "      <td>2.000000</td>\n",
       "      <td>20.125000</td>\n",
       "      <td>0.000000</td>\n",
       "      <td>0.000000</td>\n",
       "      <td>7.910400</td>\n",
       "    </tr>\n",
       "    <tr>\n",
       "      <th>50%</th>\n",
       "      <td>0.000000</td>\n",
       "      <td>3.000000</td>\n",
       "      <td>28.000000</td>\n",
       "      <td>0.000000</td>\n",
       "      <td>0.000000</td>\n",
       "      <td>14.454200</td>\n",
       "    </tr>\n",
       "    <tr>\n",
       "      <th>75%</th>\n",
       "      <td>1.000000</td>\n",
       "      <td>3.000000</td>\n",
       "      <td>38.000000</td>\n",
       "      <td>1.000000</td>\n",
       "      <td>0.000000</td>\n",
       "      <td>31.000000</td>\n",
       "    </tr>\n",
       "    <tr>\n",
       "      <th>max</th>\n",
       "      <td>1.000000</td>\n",
       "      <td>3.000000</td>\n",
       "      <td>80.000000</td>\n",
       "      <td>8.000000</td>\n",
       "      <td>6.000000</td>\n",
       "      <td>512.329200</td>\n",
       "    </tr>\n",
       "  </tbody>\n",
       "</table>\n",
       "</div>"
      ],
      "text/plain": [
       "         Survived      Pclass         Age       SibSp       Parch        Fare\n",
       "count  891.000000  891.000000  714.000000  891.000000  891.000000  891.000000\n",
       "mean     0.383838    2.308642   29.699118    0.523008    0.381594   32.204208\n",
       "std      0.486592    0.836071   14.526497    1.102743    0.806057   49.693429\n",
       "min      0.000000    1.000000    0.420000    0.000000    0.000000    0.000000\n",
       "25%      0.000000    2.000000   20.125000    0.000000    0.000000    7.910400\n",
       "50%      0.000000    3.000000   28.000000    0.000000    0.000000   14.454200\n",
       "75%      1.000000    3.000000   38.000000    1.000000    0.000000   31.000000\n",
       "max      1.000000    3.000000   80.000000    8.000000    6.000000  512.329200"
      ]
     },
     "execution_count": 8,
     "metadata": {},
     "output_type": "execute_result"
    }
   ],
   "source": [
    "df.describe()"
   ]
  },
  {
   "cell_type": "code",
   "execution_count": 9,
   "id": "083948f8",
   "metadata": {},
   "outputs": [
    {
     "data": {
      "text/markdown": [
       "**Duplicate rows**"
      ],
      "text/plain": [
       "<IPython.core.display.Markdown object>"
      ]
     },
     "metadata": {},
     "output_type": "display_data"
    },
    {
     "data": {
      "text/markdown": [
       "0 duplicate rows"
      ],
      "text/plain": [
       "<IPython.core.display.Markdown object>"
      ]
     },
     "metadata": {},
     "output_type": "display_data"
    }
   ],
   "source": [
    "# check for duplicate rows\n",
    "display(Markdown('**Duplicate rows**'))\n",
    "display(Markdown(f'{df.duplicated().sum()} duplicate rows'))"
   ]
  },
  {
   "cell_type": "code",
   "execution_count": 10,
   "id": "3a6ad432",
   "metadata": {},
   "outputs": [
    {
     "data": {
      "image/png": "[encoded data removed]",
      "text/plain": [
       "<Figure size 432x288 with 1 Axes>"
      ]
     },
     "metadata": {},
     "output_type": "display_data"
    }
   ],
   "source": [
    "df.hist('Age', bins=100)\n",
    "plt.show()"
   ]
  },
  {
   "cell_type": "markdown",
   "id": "b6deb4b2",
   "metadata": {},
   "source": [
    "- The `Age` feature distribution seems to be skewed. We should take this into account if we will perform any kind of replacement of missing values. \n",
    "\n",
    "- The values are between 0 and 80 which seems to be a reasonable range."
   ]
  },
  {
   "cell_type": "code",
   "execution_count": 11,
   "id": "48f5194b",
   "metadata": {},
   "outputs": [
    {
     "data": {
      "image/png": "[encoded data removed]",
      "text/plain": [
       "<Figure size 432x288 with 3 Axes>"
      ]
     },
     "metadata": {},
     "output_type": "display_data"
    }
   ],
   "source": [
    "fig, axes = plt.subplots(nrows=1, ncols=3)\n",
    "for a, col in zip(axes, ['Pclass', 'Sex', 'Embarked']):\n",
    "    sns.countplot(x=col ,hue='Survived',data=df, ax=a)\n",
    "plt.show()"
   ]
  },
  {
   "cell_type": "markdown",
   "id": "32824e0f",
   "metadata": {},
   "source": [
    "- The `Pclass` seems to affect the survival rate. Which seems reasonable.\n",
    "\n",
    "-   The discrepancy between female/male rates can be related to the code of conduct\n",
    "\"*Women and children first*\". However, we must to investigate this better. Because this discrepancy can be caused by other factors.\n",
    "\n",
    "-  At first glance it seems that the passenger that embarked in the `S` point are more likely to die. Obviously, is unrealistic that where the passenger chose to embark affect the chance of survival. \n",
    "   -  Almost $72\\%$ of the passengers embarked at the S point."
   ]
  },
  {
   "cell_type": "code",
   "execution_count": 12,
   "id": "75fbfaa4",
   "metadata": {},
   "outputs": [
    {
     "data": {
      "image/png": "[encoded data removed]",
      "text/plain": [
       "<Figure size 432x288 with 2 Axes>"
      ]
     },
     "metadata": {},
     "output_type": "display_data"
    }
   ],
   "source": [
    "fig, axes = plt.subplots(nrows=1, ncols=2)\n",
    "for a, col in zip(axes, ['Pclass', 'Survived']):\n",
    "    sns.countplot(x=col ,hue='Sex',data=df, ax=a)\n",
    "plt.show()"
   ]
  },
  {
   "cell_type": "markdown",
   "id": "7e7b8534",
   "metadata": {},
   "source": [
    "- We can notice that the third class is composed mostly of male passengers. So perhaps the discrepancy in survival rates between male and female passengers could be also related to this. We must investigate this more carefully."
   ]
  },
  {
   "cell_type": "code",
   "execution_count": 13,
   "id": "65306c28",
   "metadata": {},
   "outputs": [
    {
     "data": {
      "image/png": "[encoded data removed]",
      "text/plain": [
       "<Figure size 432x288 with 2 Axes>"
      ]
     },
     "metadata": {},
     "output_type": "display_data"
    }
   ],
   "source": [
    "fig, axes = plt.subplots(nrows=1, ncols=2)\n",
    "for a, col in zip(axes, ['Pclass', 'Sex']):\n",
    "    sns.countplot(x=col ,hue='Embarked',data=df, ax=a)\n",
    "plt.show()"
   ]
  },
  {
   "cell_type": "code",
   "execution_count": 21,
   "id": "6e057af1",
   "metadata": {},
   "outputs": [
    {
     "data": {
      "text/html": [
       "<div>\n",
       "<style scoped>\n",
       "    .dataframe tbody tr th:only-of-type {\n",
       "        vertical-align: middle;\n",
       "    }\n",
       "\n",
       "    .dataframe tbody tr th {\n",
       "        vertical-align: top;\n",
       "    }\n",
       "\n",
       "    .dataframe thead th {\n",
       "        text-align: right;\n",
       "    }\n",
       "</style>\n",
       "<table border=\"1\" class=\"dataframe\">\n",
       "  <thead>\n",
       "    <tr style=\"text-align: right;\">\n",
       "      <th></th>\n",
       "      <th></th>\n",
       "      <th>Pclass</th>\n",
       "      <th>Percentage</th>\n",
       "    </tr>\n",
       "    <tr>\n",
       "      <th>Embarked</th>\n",
       "      <th>Pclass</th>\n",
       "      <th></th>\n",
       "      <th></th>\n",
       "    </tr>\n",
       "  </thead>\n",
       "  <tbody>\n",
       "    <tr>\n",
       "      <th rowspan=\"3\" valign=\"top\">C</th>\n",
       "      <th>1</th>\n",
       "      <td>85</td>\n",
       "      <td>50.6%</td>\n",
       "    </tr>\n",
       "    <tr>\n",
       "      <th>2</th>\n",
       "      <td>17</td>\n",
       "      <td>10.1%</td>\n",
       "    </tr>\n",
       "    <tr>\n",
       "      <th>3</th>\n",
       "      <td>66</td>\n",
       "      <td>39.3%</td>\n",
       "    </tr>\n",
       "    <tr>\n",
       "      <th rowspan=\"3\" valign=\"top\">Q</th>\n",
       "      <th>1</th>\n",
       "      <td>2</td>\n",
       "      <td>2.6%</td>\n",
       "    </tr>\n",
       "    <tr>\n",
       "      <th>2</th>\n",
       "      <td>3</td>\n",
       "      <td>3.9%</td>\n",
       "    </tr>\n",
       "    <tr>\n",
       "      <th>3</th>\n",
       "      <td>72</td>\n",
       "      <td>93.5%</td>\n",
       "    </tr>\n",
       "    <tr>\n",
       "      <th rowspan=\"3\" valign=\"top\">S</th>\n",
       "      <th>1</th>\n",
       "      <td>127</td>\n",
       "      <td>19.7%</td>\n",
       "    </tr>\n",
       "    <tr>\n",
       "      <th>2</th>\n",
       "      <td>164</td>\n",
       "      <td>25.5%</td>\n",
       "    </tr>\n",
       "    <tr>\n",
       "      <th>3</th>\n",
       "      <td>353</td>\n",
       "      <td>54.8%</td>\n",
       "    </tr>\n",
       "  </tbody>\n",
       "</table>\n",
       "</div>"
      ],
      "text/plain": [
       "                 Pclass Percentage\n",
       "Embarked Pclass                   \n",
       "C        1           85      50.6%\n",
       "         2           17      10.1%\n",
       "         3           66      39.3%\n",
       "Q        1            2       2.6%\n",
       "         2            3       3.9%\n",
       "         3           72      93.5%\n",
       "S        1          127      19.7%\n",
       "         2          164      25.5%\n",
       "         3          353      54.8%"
      ]
     },
     "execution_count": 21,
     "metadata": {},
     "output_type": "execute_result"
    }
   ],
   "source": [
    "def show_dist_table(\n",
    "    df, col_a='Embarked', col_b='Pclass',\n",
    "    col_by='Pclass', how='count'\n",
    "):\n",
    "    sce = df[\n",
    "        [col_a, col_b]].groupby(\n",
    "            [col_a, col_b]\n",
    "        ).agg(\n",
    "            {col_by: how}\n",
    "        )\n",
    "\n",
    "    sce['Percentage'] = sce.groupby(\n",
    "            level=0\n",
    "        ).apply(\n",
    "            lambda x: 100 * x / float(x.sum())\n",
    "        )\n",
    "    sce['Percentage'] = sce['Percentage'].map(\n",
    "            lambda x: f'{x:.1f}%')\n",
    "    return sce \n",
    "\n",
    "show_dist_table(df)"
   ]
  },
  {
   "cell_type": "markdown",
   "id": "adb780c4",
   "metadata": {},
   "source": [
    "- We can notice that mostly of the passengers that emabrked in the `S` point came from the third class. \n",
    "- The `Q` point also has a higher rate of third class of passengers. But there is a diffrence because contrary to the `S` point, the number of passengers that embarked in the `Q` point is much lower."
   ]
  },
  {
   "cell_type": "markdown",
   "id": "f0a1bf6b",
   "metadata": {},
   "source": [
    "## More EDA and statistics"
   ]
  },
  {
   "cell_type": "markdown",
   "id": "dfc57550",
   "metadata": {},
   "source": [
    "Let's take a look at the `Age` feature distribution."
   ]
  },
  {
   "cell_type": "code",
   "execution_count": 15,
   "id": "31864174",
   "metadata": {},
   "outputs": [
    {
     "name": "stderr",
     "output_type": "stream",
     "text": [
      "/home/devmessias/anaconda3/envs/mlops/lib/python3.8/site-packages/seaborn/distributions.py:2619: FutureWarning: `distplot` is a deprecated function and will be removed in a future version. Please adapt your code to use either `displot` (a figure-level function with similar flexibility) or `histplot` (an axes-level function for histograms).\n",
      "  warnings.warn(msg, FutureWarning)\n",
      "/home/devmessias/anaconda3/envs/mlops/lib/python3.8/site-packages/seaborn/distributions.py:2619: FutureWarning: `distplot` is a deprecated function and will be removed in a future version. Please adapt your code to use either `displot` (a figure-level function with similar flexibility) or `histplot` (an axes-level function for histograms).\n",
      "  warnings.warn(msg, FutureWarning)\n",
      "/home/devmessias/anaconda3/envs/mlops/lib/python3.8/site-packages/seaborn/distributions.py:2619: FutureWarning: `distplot` is a deprecated function and will be removed in a future version. Please adapt your code to use either `displot` (a figure-level function with similar flexibility) or `histplot` (an axes-level function for histograms).\n",
      "  warnings.warn(msg, FutureWarning)\n"
     ]
    },
    {
     "data": {
      "image/png": "[encoded data removed]",
      "text/plain": [
       "<Figure size 432x288 with 1 Axes>"
      ]
     },
     "metadata": {},
     "output_type": "display_data"
    }
   ],
   "source": [
    "# plot histogram of age by Pclass\n",
    "plt.figure()\n",
    "for col in [1, 2, 3]:\n",
    "    df_age = df[df['Pclass'] == col]['Age']\n",
    "    sns.distplot(df_age, label=f'Pclass {col}')\n",
    "plt.legend()\n",
    "plt.show()"
   ]
  },
  {
   "cell_type": "code",
   "execution_count": 16,
   "id": "36ad49e1",
   "metadata": {},
   "outputs": [
    {
     "data": {
      "text/plain": [
       "(count    186.000000\n",
       " mean      38.233441\n",
       " std       14.802856\n",
       " min        0.920000\n",
       " 25%       27.000000\n",
       " 50%       37.000000\n",
       " 75%       49.000000\n",
       " max       80.000000\n",
       " Name: Age, dtype: float64,\n",
       " count    173.000000\n",
       " mean      29.877630\n",
       " std       14.001077\n",
       " min        0.670000\n",
       " 25%       23.000000\n",
       " 50%       29.000000\n",
       " 75%       36.000000\n",
       " max       70.000000\n",
       " Name: Age, dtype: float64)"
      ]
     },
     "execution_count": 16,
     "metadata": {},
     "output_type": "execute_result"
    }
   ],
   "source": [
    "(df[df['Pclass'] == 1]['Age'].describe(), df[df['Pclass'] == 2]['Age'].describe())  "
   ]
  },
  {
   "cell_type": "markdown",
   "id": "32bbbc1a",
   "metadata": {},
   "source": [
    "- The first class passengers are older than the second and third class. We know that the first class passengers has a higher chance of survival than the second and third class. "
   ]
  },
  {
   "cell_type": "code",
   "execution_count": 19,
   "id": "8b701db7",
   "metadata": {},
   "outputs": [
    {
     "name": "stdout",
     "output_type": "stream",
     "text": [
      "Z Test\n",
      "--------------------\n",
      "T stat. = -2.067\n",
      "P value = 0.039\n",
      "\n",
      "====================\n",
      "T-test\n",
      "--------------------\n",
      "T stat. = -2.067\n",
      "P value = 0.039\n"
     ]
    }
   ],
   "source": [
    "def z_test(df, col='Age'):\n",
    "    df_survivors = df[df['Survived'] == 1][col].dropna()\n",
    "    df_nonsurvivors = df[df['Survived'] == 0][col].dropna()\n",
    "\n",
    "    t_stat, p_value = ztest(df_survivors, df_nonsurvivors)\n",
    "    print(\"Z Test\")\n",
    "    print(20*'-')\n",
    "    print(f\"T stat. = {t_stat:.3f}\")\n",
    "    print(f\"P value = {p_value:.3f}\\n\") \n",
    "    print(20*'=')\n",
    "     \n",
    "z_test(df)"
   ]
  },
  {
   "cell_type": "code",
   "execution_count": 26,
   "id": "d39494f8",
   "metadata": {},
   "outputs": [
    {
     "data": {
      "text/plain": [
       "<AxesSubplot:xlabel='Age', ylabel='Count'>"
      ]
     },
     "execution_count": 26,
     "metadata": {},
     "output_type": "execute_result"
    },
    {
     "data": {
      "image/png": "[encoded data removed]",
      "text/plain": [
       "<Figure size 432x288 with 1 Axes>"
      ]
     },
     "metadata": {},
     "output_type": "display_data"
    }
   ],
   "source": [
    "sns.histplot(df[df['Survived'] == 0]['Age'], kde=True)"
   ]
  },
  {
   "cell_type": "markdown",
   "id": "cb3cde4c",
   "metadata": {},
   "source": [
    "## EDA through SHAP"
   ]
  }
 ],
 "metadata": {
  "kernelspec": {
   "display_name": "Python 3 (ipykernel)",
   "language": "python",
   "name": "python3"
  },
  "language_info": {
   "codemirror_mode": {
    "name": "ipython",
    "version": 3
   },
   "file_extension": ".py",
   "mimetype": "text/x-python",
   "name": "python",
   "nbconvert_exporter": "python",
   "pygments_lexer": "ipython3",
   "version": "3.8.0"
  }
 },
 "nbformat": 4,
 "nbformat_minor": 5
}
